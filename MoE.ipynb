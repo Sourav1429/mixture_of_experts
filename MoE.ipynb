{
  "nbformat": 4,
  "nbformat_minor": 0,
  "metadata": {
    "colab": {
      "provenance": [],
      "gpuType": "T4"
    },
    "kernelspec": {
      "name": "python3",
      "display_name": "Python 3"
    },
    "language_info": {
      "name": "python"
    },
    "accelerator": "GPU"
  },
  "cells": [
    {
      "cell_type": "code",
      "execution_count": 7,
      "metadata": {
        "id": "zlHEx8xHrJTK"
      },
      "outputs": [],
      "source": [
        "import torchvision\n",
        "from torchvision import datasets, transforms\n",
        "import matplotlib.pyplot as plt\n",
        "import numpy as np\n",
        "import torch\n",
        "import torch.nn as nn\n",
        "import torch.nn.functional as F\n",
        "from sklearn.metrics import accuracy_score"
      ]
    },
    {
      "cell_type": "code",
      "source": [
        "class Net(nn.Module):\n",
        "    def __init__(self,in_ch,out_ch1,kernel_size,act):\n",
        "        super(Net, self).__init__()\n",
        "        self.conv1 = nn.Conv2d(in_ch,out_ch1 , kernel_size)\n",
        "        #self.conv2 = nn.Conv2d(out_ch1, out_ch2, kernel_size)\n",
        "        self.pool = nn.MaxPool2d(2, 2)\n",
        "        self.fc1 = nn.Linear(15*15*10, 50)\n",
        "        self.fc2 = nn.Linear(50, 10)\n",
        "        self.act = act #0 for linear and 1 for non-linear\n",
        "    def activation(self,x):\n",
        "        return x**3\n",
        "    def forward(self, x):\n",
        "      #print(x.shape)\n",
        "      if(self.act==1):\n",
        "          x = self.activation(self.conv1(x))\n",
        "      else:\n",
        "          x = self.conv1(x)\n",
        "      x = self.pool(x)\n",
        "      #print(x.shape)\n",
        "      x = x.view(-1, 15*15*10)\n",
        "      x = self.fc1(x)\n",
        "      x = self.fc2(x)\n",
        "      return x;"
      ],
      "metadata": {
        "id": "9Q0A3IXqsA9-"
      },
      "execution_count": 8,
      "outputs": []
    },
    {
      "cell_type": "code",
      "source": [
        "class Router(nn.Module):\n",
        "    def __init__(self,n_experts,in_ch,out_ch1):\n",
        "      super(Router, self).__init__()\n",
        "      self.n_experts = n_experts\n",
        "      self.conv1 = nn.Conv2d(in_ch, 6, 3)\n",
        "      self.pool = nn.MaxPool2d(2, 2)\n",
        "      self.fc1 = nn.Linear( 6*3 * 3, 120)\n",
        "      self.fc2 = nn.Linear(120, 84)\n",
        "      self.fc3 = nn.Linear(84, n_experts)\n",
        "    def forward(self, x):\n",
        "      x = self.pool(F.relu(self.conv1(x)))\n",
        "      x = x.view(-1, 6 * 3 * 3)\n",
        "      x = F.relu(self.fc1(x))\n",
        "      x = F.relu(self.fc2(x))\n",
        "      x = self.fc3(x)\n",
        "      return x"
      ],
      "metadata": {
        "id": "mdYg3uOm5zCV"
      },
      "execution_count": 9,
      "outputs": []
    },
    {
      "cell_type": "code",
      "source": [
        "class MoE:\n",
        "  def __init__(self,n_experts,in_ch,out_ch1,patches,device):\n",
        "    self.n_experts = n_experts\n",
        "    self.router = Router(n_experts,in_ch,out_ch1).to(device)\n",
        "    self.experts = nn.ModuleList([Net(in_ch,out_ch1,3,1) for i in range(n_experts)]).to(device)\n",
        "    self.num_patches = patches\n",
        "    self.loss = nn.CrossEntropyLoss()\n",
        "    self.optim_router = torch.optim.SGD(self.router.parameters(), lr=0.001, momentum=0.9)\n",
        "    self.expert_optimizers = [torch.optim.Adam(self.experts[i].parameters(),lr = 0.001) for i in range(self.n_experts)]\n",
        "    self.device = device\n",
        "  def fit(self,trainloader,device):\n",
        "    patch_size = 32//self.num_patches\n",
        "    tot_loss = 0\n",
        "    for batch in trainloader:\n",
        "      X,y = batch\n",
        "      y = torch.nn.functional.one_hot(y, num_classes=10).float().to(device)\n",
        "      for i in range(len(X)):\n",
        "        x = X[i].to(device)\n",
        "        #plt.imshow(np.reshape(x,(32,32,3)))\n",
        "        y_i = y[i].to(device)\n",
        "        #print(y_i)\n",
        "        tot_val = torch.zeros(self.n_experts).to(device)\n",
        "        for j in range(self.num_patches):\n",
        "          for k in range(self.num_patches):\n",
        "            x_patch = x[:,j*patch_size:(j+1)*patch_size,k*patch_size:(k+1)*patch_size].to(device)\n",
        "            #print(x_patch.shape)\n",
        "            val = self.router(x_patch)\n",
        "            tot_val = tot_val + val\n",
        "        expert_chosen = torch.argmax(tot_val)\n",
        "        y_pred = self.experts[expert_chosen](x).view(-1).to(device)\n",
        "        #print(y_pred)\n",
        "        #print(y_i)\n",
        "        #input()\n",
        "        loss = self.loss(y_pred,y_i)\n",
        "        tot_loss = tot_loss + loss\n",
        "        self.optim_router.zero_grad()\n",
        "        self.expert_optimizers[expert_chosen].zero_grad()\n",
        "        loss.backward()\n",
        "        self.optim_router.step()\n",
        "        self.expert_optimizers[expert_chosen].step()\n",
        "    return tot_loss/len(trainloader)\n",
        "  def predict(self,X):\n",
        "    patch_size = 32//self.num_patches\n",
        "    pred_values = np.zeros(len(X))\n",
        "    for i in range(len(X)):\n",
        "      x = X[i]\n",
        "      tot_val = torch.zeros(self.n_experts)\n",
        "      for j in range(self.num_patches):\n",
        "        for k in range(self.num_patches):\n",
        "          x_patch = x[:,j*patch_size:(j+1)*patch_size,k*patch_size:(k+1)*patch_size]\n",
        "          val = self.router(x_patch)\n",
        "          tot_val = tot_val + val\n",
        "      expert_chosen = torch.argmax(tot_val)\n",
        "      y_pred = self.experts[expert_chosen](x)\n",
        "      pred_values[i] = torch.argmax(y_pred).cpu().item()\n",
        "    return pred_values"
      ],
      "metadata": {
        "id": "zEk1D1-oDZkm"
      },
      "execution_count": 10,
      "outputs": []
    },
    {
      "cell_type": "code",
      "source": [
        "transform = transforms.Compose([\n",
        "    transforms.ToTensor(),\n",
        "    transforms.Normalize((0.5, 0.5, 0.5), (0.5, 0.5, 0.5))\n",
        "])\n",
        "device = torch.device(\"cuda\" if torch.cuda.is_available() else \"cpu\")\n",
        "trainset = torchvision.datasets.CIFAR10(root='./data', train=True,\n",
        "                                        download=True, transform=transform)\n",
        "trainloader = torch.utils.data.DataLoader(trainset, batch_size=4,\n",
        "                                          shuffle=True, num_workers=2)\n",
        "testset = torchvision.datasets.CIFAR10(root='./data', train=False,\n",
        "                                        download=True, transform=transform)\n",
        "testloader = torch.utils.data.DataLoader(testset, batch_size=4,\n",
        "                                          shuffle=False, num_workers=2)\n",
        "classes = ('plane', 'car', 'bird', 'cat',\n",
        "            'deer', 'dog', 'frog', 'horse', 'ship', 'truck')\n",
        "model =MoE(4,3,10,4,device)#n_experts,in_ch,out_ch1,patches\n",
        "n_epochs = 10\n",
        "loss_list = []\n",
        "for i in range(n_epochs):\n",
        "  present_loss = model.fit(trainloader,device)\n",
        "  loss_list.append(present_loss)\n",
        "  print(f\"Epoch {i+1}/{n_epochs}, Loss: {present_loss}\")"
      ],
      "metadata": {
        "id": "n6IlFzlAq-IQ",
        "colab": {
          "base_uri": "https://localhost:8080/"
        },
        "outputId": "31abe6d2-0a6c-470a-ebd2-dba2adfb9054"
      },
      "execution_count": 12,
      "outputs": [
        {
          "output_type": "stream",
          "name": "stdout",
          "text": [
            "Files already downloaded and verified\n",
            "Files already downloaded and verified\n",
            "Epoch 1/10, Loss: 6.235317230224609\n",
            "Epoch 2/10, Loss: 5.600617408752441\n",
            "Epoch 3/10, Loss: 5.425222396850586\n",
            "Epoch 4/10, Loss: 5.310474872589111\n",
            "Epoch 5/10, Loss: 5.220433712005615\n",
            "Epoch 6/10, Loss: 5.14109468460083\n",
            "Epoch 7/10, Loss: 5.08414363861084\n",
            "Epoch 8/10, Loss: 5.053863525390625\n",
            "Epoch 9/10, Loss: 5.027271270751953\n",
            "Epoch 10/10, Loss: 4.99997091293335\n"
          ]
        }
      ]
    },
    {
      "cell_type": "code",
      "source": [
        "def predict(model,X,device):\n",
        "  patch_size = 32//4\n",
        "  pred_values = np.zeros(len(X))\n",
        "  num_patches = 4\n",
        "  for i in range(len(X)):\n",
        "    x = X[i].to(device)\n",
        "    tot_val = torch.zeros(model.n_experts)\n",
        "    for j in range(num_patches):\n",
        "      for k in range(num_patches):\n",
        "        x_patch = x[:,j*patch_size:(j+1)*patch_size,k*patch_size:(k+1)*patch_size].to(device)\n",
        "        val = model.router(x_patch).cpu()\n",
        "        tot_val = tot_val + val\n",
        "    expert_chosen = torch.argmax(tot_val)\n",
        "    y_pred = model.experts[expert_chosen](x)\n",
        "    pred_values[i] = torch.argmax(y_pred).cpu().item()\n",
        "  return pred_values"
      ],
      "metadata": {
        "id": "xlEV8-MlPgQu"
      },
      "execution_count": 23,
      "outputs": []
    },
    {
      "cell_type": "code",
      "source": [
        "all_predictions = []\n",
        "all_true_labels = []\n",
        "\n",
        "# Predict and calculate accuracy\n",
        "with torch.no_grad():  # Disable gradient tracking for inference\n",
        "    for batch in testloader:\n",
        "        X_test, y_test = batch  # Extract test inputs and true labels\n",
        "        preds = predict(model,X_test,device)  # Get predictions\n",
        "        all_predictions.extend(preds.tolist())  # Collect predictions\n",
        "        all_true_labels.extend(y_test.tolist())  # Collect true labels\n",
        "\n",
        "# Compute accuracy score\n",
        "accuracy = accuracy_score(all_true_labels, all_predictions)\n",
        "print(f\"Accuracy: {accuracy * 100:.2f}%\")"
      ],
      "metadata": {
        "colab": {
          "base_uri": "https://localhost:8080/"
        },
        "id": "f_8Kln9GHcLG",
        "outputId": "ac82073c-8a35-4a8d-aa07-60350eea647d"
      },
      "execution_count": 24,
      "outputs": [
        {
          "output_type": "stream",
          "name": "stdout",
          "text": [
            "Accuracy: 52.68%\n"
          ]
        }
      ]
    },
    {
      "cell_type": "code",
      "source": [],
      "metadata": {
        "id": "d41C6yghDP_N",
        "colab": {
          "base_uri": "https://localhost:8080/"
        },
        "outputId": "871d0ff1-0980-4237-8a4d-e322d73a593f"
      },
      "execution_count": 57,
      "outputs": [
        {
          "output_type": "stream",
          "name": "stdout",
          "text": [
            "tensor(4)\n"
          ]
        }
      ]
    },
    {
      "cell_type": "code",
      "source": [],
      "metadata": {
        "id": "RZFrNTB5Du29"
      },
      "execution_count": null,
      "outputs": []
    }
  ]
}