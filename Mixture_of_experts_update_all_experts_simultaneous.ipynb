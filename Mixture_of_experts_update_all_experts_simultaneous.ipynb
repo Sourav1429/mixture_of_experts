{
  "nbformat": 4,
  "nbformat_minor": 0,
  "metadata": {
    "colab": {
      "provenance": []
    },
    "kernelspec": {
      "name": "python3",
      "display_name": "Python 3"
    },
    "language_info": {
      "name": "python"
    }
  },
  "cells": [
    {
      "cell_type": "code",
      "source": [
        "import torch\n",
        "import torch.nn as nn\n",
        "import torch.nn.functional as F\n",
        "import torch.optim as optim\n",
        "from torchvision import datasets, transforms\n",
        "from torch.utils.data import DataLoader"
      ],
      "metadata": {
        "id": "g-UMVjTARasq"
      },
      "execution_count": 1,
      "outputs": []
    },
    {
      "cell_type": "code",
      "source": [
        "# CIFAR-10 dataset and preprocessing\n",
        "transform = transforms.Compose([\n",
        "    transforms.ToTensor(),\n",
        "    transforms.Normalize((0.5, 0.5, 0.5), (0.5, 0.5, 0.5))\n",
        "])\n",
        "\n",
        "trainset = datasets.CIFAR10(root='./data', train=True, download=True, transform=transform)\n",
        "trainloader = DataLoader(trainset, batch_size=64, shuffle=True, num_workers=2)\n",
        "\n",
        "testset = datasets.CIFAR10(root='./data', train=False, download=True, transform=transform)\n",
        "testloader = DataLoader(testset, batch_size=64, shuffle=False, num_workers=2)"
      ],
      "metadata": {
        "colab": {
          "base_uri": "https://localhost:8080/"
        },
        "id": "Md3iqkG2Rds_",
        "outputId": "e4aca70b-3f54-4bdf-ca0b-c1a6600ca03f"
      },
      "execution_count": 2,
      "outputs": [
        {
          "output_type": "stream",
          "name": "stdout",
          "text": [
            "Downloading https://www.cs.toronto.edu/~kriz/cifar-10-python.tar.gz to ./data/cifar-10-python.tar.gz\n"
          ]
        },
        {
          "output_type": "stream",
          "name": "stderr",
          "text": [
            "100%|██████████| 170M/170M [00:03<00:00, 49.5MB/s]\n"
          ]
        },
        {
          "output_type": "stream",
          "name": "stdout",
          "text": [
            "Extracting ./data/cifar-10-python.tar.gz to ./data\n",
            "Files already downloaded and verified\n"
          ]
        }
      ]
    },
    {
      "cell_type": "code",
      "source": [
        "# Define the Expert Network\n",
        "class Expert(nn.Module):\n",
        "    def __init__(self):\n",
        "        super(Expert, self).__init__()\n",
        "        self.conv1 = nn.Conv2d(3, 32, kernel_size=3, stride=1, padding=1)\n",
        "        self.conv2 = nn.Conv2d(32, 64, kernel_size=3, stride=1, padding=1)\n",
        "        self.fc = nn.Linear(64 * 8 * 8, 10)\n",
        "\n",
        "    def forward(self, x):\n",
        "        x = F.relu(self.conv1(x))\n",
        "        x = F.max_pool2d(x, 2)\n",
        "        x = F.relu(self.conv2(x))\n",
        "        x = F.max_pool2d(x, 2)\n",
        "        x = x.view(x.size(0), -1)\n",
        "        x = self.fc(x)\n",
        "        return x"
      ],
      "metadata": {
        "id": "i5qMtuc9Rgqz"
      },
      "execution_count": 3,
      "outputs": []
    },
    {
      "cell_type": "code",
      "source": [
        "# Define the Router Network\n",
        "class Router(nn.Module):\n",
        "    def __init__(self, num_experts):\n",
        "        super(Router, self).__init__()\n",
        "        self.fc = nn.Linear(3 * 32 * 32, num_experts)  # Flattened CIFAR-10 input\n",
        "\n",
        "    def forward(self, x):\n",
        "        x = x.view(x.size(0), -1)  # Flatten input\n",
        "        logits = self.fc(x)\n",
        "        probs = F.softmax(logits, dim=1)  # Routing probabilities\n",
        "        return probs"
      ],
      "metadata": {
        "id": "Ae9q9pjORjfI"
      },
      "execution_count": 4,
      "outputs": []
    },
    {
      "cell_type": "code",
      "source": [
        "# Mixture of Experts Network\n",
        "class MixtureOfExperts(nn.Module):\n",
        "    def __init__(self, num_experts):\n",
        "        super(MixtureOfExperts, self).__init__()\n",
        "        self.num_experts = num_experts\n",
        "        self.experts = nn.ModuleList([Expert() for _ in range(num_experts)])\n",
        "        self.router = Router(num_experts)\n",
        "\n",
        "    def forward(self, x):\n",
        "        routing_probs = self.router(x)  # Get routing probabilities\n",
        "        expert_outputs = torch.stack([expert(x) for expert in self.experts], dim=1)  # Outputs from all experts\n",
        "        top1_expert = torch.argmax(routing_probs, dim=1)  # Top-1 routing\n",
        "\n",
        "        # Select the output of the top-1 expert for each sample\n",
        "        batch_size = x.size(0)\n",
        "        outputs = torch.zeros(batch_size, 10).to(x.device)  # Initialize outputs\n",
        "        for i in range(batch_size):\n",
        "            outputs[i] = expert_outputs[i, top1_expert[i]]\n",
        "\n",
        "        return outputs"
      ],
      "metadata": {
        "id": "m3RX2cZBRnFv"
      },
      "execution_count": 5,
      "outputs": []
    },
    {
      "cell_type": "code",
      "source": [
        "# Initialize the Mixture of Experts\n",
        "num_experts = 3\n",
        "model = MixtureOfExperts(num_experts=num_experts).to(torch.device('cuda' if torch.cuda.is_available() else 'cpu'))\n",
        "\n",
        "# Loss and optimizer\n",
        "criterion = nn.CrossEntropyLoss()\n",
        "optimizer = optim.Adam(model.parameters(), lr=0.001)\n",
        "\n",
        "# Training loop\n",
        "num_epochs = 10\n",
        "device = torch.device('cuda' if torch.cuda.is_available() else 'cpu')\n",
        "model.to(device)\n",
        "\n",
        "for epoch in range(num_epochs):\n",
        "    model.train()\n",
        "    running_loss = 0.0\n",
        "    for inputs, labels in trainloader:\n",
        "        inputs, labels = inputs.to(device), labels.to(device)\n",
        "\n",
        "        optimizer.zero_grad()\n",
        "        outputs = model(inputs)\n",
        "        loss = criterion(outputs, labels)\n",
        "        loss.backward()\n",
        "        optimizer.step()\n",
        "\n",
        "        running_loss += loss.item()\n",
        "\n",
        "    print(f\"Epoch {epoch+1}/{num_epochs}, Loss: {running_loss/len(trainloader):.4f}\")"
      ],
      "metadata": {
        "colab": {
          "base_uri": "https://localhost:8080/"
        },
        "id": "igP-EzjyRt-r",
        "outputId": "7e14f523-de88-4732-c984-f967eaaa2a88"
      },
      "execution_count": 6,
      "outputs": [
        {
          "output_type": "stream",
          "name": "stdout",
          "text": [
            "Epoch 1/10, Loss: 1.4873\n",
            "Epoch 2/10, Loss: 1.1093\n",
            "Epoch 3/10, Loss: 0.9409\n",
            "Epoch 4/10, Loss: 0.8212\n",
            "Epoch 5/10, Loss: 0.7239\n",
            "Epoch 6/10, Loss: 0.6400\n",
            "Epoch 7/10, Loss: 0.5657\n",
            "Epoch 8/10, Loss: 0.4958\n",
            "Epoch 9/10, Loss: 0.4320\n",
            "Epoch 10/10, Loss: 0.3812\n"
          ]
        }
      ]
    },
    {
      "cell_type": "code",
      "execution_count": 7,
      "metadata": {
        "colab": {
          "base_uri": "https://localhost:8080/"
        },
        "id": "ZCE1g3IFRUB3",
        "outputId": "a8ea0056-47ba-4778-8797-32fc812658e1"
      },
      "outputs": [
        {
          "output_type": "stream",
          "name": "stdout",
          "text": [
            "Accuracy: 67.12%\n"
          ]
        }
      ],
      "source": [
        "# Testing the model\n",
        "model.eval()\n",
        "correct = 0\n",
        "total = 0\n",
        "with torch.no_grad():\n",
        "    for inputs, labels in testloader:\n",
        "        inputs, labels = inputs.to(device), labels.to(device)\n",
        "        outputs = model(inputs)\n",
        "        _, predicted = torch.max(outputs, 1)\n",
        "        total += labels.size(0)\n",
        "        correct += (predicted == labels).sum().item()\n",
        "\n",
        "print(f\"Accuracy: {100 * correct / total:.2f}%\")\n"
      ]
    },
    {
      "cell_type": "code",
      "source": [],
      "metadata": {
        "id": "2CwjfbhtRwPj"
      },
      "execution_count": null,
      "outputs": []
    }
  ]
}